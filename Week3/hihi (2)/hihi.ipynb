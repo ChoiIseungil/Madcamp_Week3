{
 "cells": [
  {
   "cell_type": "code",
   "execution_count": 1,
   "metadata": {},
   "outputs": [],
   "source": [
    "import pandas as pd\n",
    "import numpy as np\n",
    "import random\n",
    "\n",
    "from sklearn.preprocessing import OrdinalEncoder\n",
    "from sklearn.impute import SimpleImputer\n",
    "import matplotlib.pyplot as plt\n",
    "\n",
    "import datetime\n",
    "import math\n",
    "import torch\n",
    "import torch.nn as nn\n",
    "import torch.nn.functional as F\n",
    "from torch.autograd import Variable\n",
    "from torch.utils.data import Dataset, DataLoader"
   ]
  },
  {
   "cell_type": "code",
   "execution_count": 6,
   "metadata": {},
   "outputs": [
    {
     "name": "stdout",
     "output_type": "stream",
     "text": [
      "C:\\Users\\ q\\Desktop\\Week3\n"
     ]
    }
   ],
   "source": [
    "%cd C:\\Users\\ q\\Desktop\\Week3"
   ]
  },
  {
   "cell_type": "code",
   "execution_count": 8,
   "metadata": {},
   "outputs": [],
   "source": [
    "lol=pd.read_csv(\"games.csv\")"
   ]
  },
  {
   "cell_type": "code",
   "execution_count": 9,
   "metadata": {},
   "outputs": [],
   "source": [
    "lol2=pd.read_csv(\"games.csv\")"
   ]
  },
  {
   "cell_type": "code",
   "execution_count": 27,
   "metadata": {},
   "outputs": [],
   "source": [
    "lol2=lol2.drop(columns=['blueTopChamp',\n",
    "'blueJungleChamp',\n",
    "'blueMiddleChamp',\n",
    "'blueADCChamp',\n",
    "'blueSupportChamp',\n",
    "'redTopChamp',\n",
    "'redJungleChamp',\n",
    "'redMiddleChamp',\n",
    "'redADCChamp',\n",
    "'redSupportChamp'])"
   ]
  },
  {
   "cell_type": "code",
   "execution_count": 28,
   "metadata": {},
   "outputs": [
    {
     "data": {
      "text/plain": [
       "bResult    51490\n",
       "dtype: int64"
      ]
     },
     "execution_count": 28,
     "metadata": {},
     "output_type": "execute_result"
    }
   ],
   "source": [
    "lol2.count()"
   ]
  },
  {
   "cell_type": "code",
   "execution_count": 11,
   "metadata": {},
   "outputs": [
    {
     "data": {
      "text/plain": [
       "bResult             51490\n",
       "blueTopChamp        51490\n",
       "blueJungleChamp     51490\n",
       "blueMiddleChamp     51490\n",
       "blueADCChamp        51490\n",
       "blueSupportChamp    51490\n",
       "redTopChamp         51490\n",
       "redJungleChamp      51490\n",
       "redMiddleChamp      51490\n",
       "redADCChamp         51490\n",
       "redSupportChamp     51490\n",
       "dtype: int64"
      ]
     },
     "execution_count": 11,
     "metadata": {},
     "output_type": "execute_result"
    }
   ],
   "source": [
    "lol.count()"
   ]
  },
  {
   "cell_type": "code",
   "execution_count": 12,
   "metadata": {},
   "outputs": [
    {
     "data": {
      "text/html": [
       "<div>\n",
       "<style scoped>\n",
       "    .dataframe tbody tr th:only-of-type {\n",
       "        vertical-align: middle;\n",
       "    }\n",
       "\n",
       "    .dataframe tbody tr th {\n",
       "        vertical-align: top;\n",
       "    }\n",
       "\n",
       "    .dataframe thead th {\n",
       "        text-align: right;\n",
       "    }\n",
       "</style>\n",
       "<table border=\"1\" class=\"dataframe\">\n",
       "  <thead>\n",
       "    <tr style=\"text-align: right;\">\n",
       "      <th></th>\n",
       "      <th>bResult</th>\n",
       "    </tr>\n",
       "  </thead>\n",
       "  <tbody>\n",
       "    <tr>\n",
       "      <th>count</th>\n",
       "      <td>51490.000000</td>\n",
       "    </tr>\n",
       "    <tr>\n",
       "      <th>mean</th>\n",
       "      <td>0.506448</td>\n",
       "    </tr>\n",
       "    <tr>\n",
       "      <th>std</th>\n",
       "      <td>0.499963</td>\n",
       "    </tr>\n",
       "    <tr>\n",
       "      <th>min</th>\n",
       "      <td>0.000000</td>\n",
       "    </tr>\n",
       "    <tr>\n",
       "      <th>25%</th>\n",
       "      <td>0.000000</td>\n",
       "    </tr>\n",
       "    <tr>\n",
       "      <th>50%</th>\n",
       "      <td>1.000000</td>\n",
       "    </tr>\n",
       "    <tr>\n",
       "      <th>75%</th>\n",
       "      <td>1.000000</td>\n",
       "    </tr>\n",
       "    <tr>\n",
       "      <th>max</th>\n",
       "      <td>1.000000</td>\n",
       "    </tr>\n",
       "  </tbody>\n",
       "</table>\n",
       "</div>"
      ],
      "text/plain": [
       "            bResult\n",
       "count  51490.000000\n",
       "mean       0.506448\n",
       "std        0.499963\n",
       "min        0.000000\n",
       "25%        0.000000\n",
       "50%        1.000000\n",
       "75%        1.000000\n",
       "max        1.000000"
      ]
     },
     "execution_count": 12,
     "metadata": {},
     "output_type": "execute_result"
    }
   ],
   "source": [
    "lol.describe()"
   ]
  },
  {
   "cell_type": "code",
   "execution_count": 13,
   "metadata": {},
   "outputs": [
    {
     "data": {
      "text/html": [
       "<div>\n",
       "<style scoped>\n",
       "    .dataframe tbody tr th:only-of-type {\n",
       "        vertical-align: middle;\n",
       "    }\n",
       "\n",
       "    .dataframe tbody tr th {\n",
       "        vertical-align: top;\n",
       "    }\n",
       "\n",
       "    .dataframe thead th {\n",
       "        text-align: right;\n",
       "    }\n",
       "</style>\n",
       "<table border=\"1\" class=\"dataframe\">\n",
       "  <thead>\n",
       "    <tr style=\"text-align: right;\">\n",
       "      <th></th>\n",
       "      <th>bResult</th>\n",
       "      <th>blueTopChamp</th>\n",
       "      <th>blueJungleChamp</th>\n",
       "      <th>blueMiddleChamp</th>\n",
       "      <th>blueADCChamp</th>\n",
       "      <th>blueSupportChamp</th>\n",
       "      <th>redTopChamp</th>\n",
       "      <th>redJungleChamp</th>\n",
       "      <th>redMiddleChamp</th>\n",
       "      <th>redADCChamp</th>\n",
       "      <th>redSupportChamp</th>\n",
       "    </tr>\n",
       "  </thead>\n",
       "  <tbody>\n",
       "    <tr>\n",
       "      <th>0</th>\n",
       "      <td>1</td>\n",
       "      <td>Vladimir</td>\n",
       "      <td>Bard</td>\n",
       "      <td>KogMaw</td>\n",
       "      <td>MasterYi</td>\n",
       "      <td>Viktor</td>\n",
       "      <td>Graves</td>\n",
       "      <td>Xayah</td>\n",
       "      <td>Darius</td>\n",
       "      <td>Zed</td>\n",
       "      <td>Thresh</td>\n",
       "    </tr>\n",
       "    <tr>\n",
       "      <th>1</th>\n",
       "      <td>1</td>\n",
       "      <td>Draven</td>\n",
       "      <td>Irelia</td>\n",
       "      <td>Nidalee</td>\n",
       "      <td>Kayle</td>\n",
       "      <td>Shaco</td>\n",
       "      <td>Malphite</td>\n",
       "      <td>Morgana</td>\n",
       "      <td>Hecarim</td>\n",
       "      <td>Yasuo</td>\n",
       "      <td>Riven</td>\n",
       "    </tr>\n",
       "    <tr>\n",
       "      <th>2</th>\n",
       "      <td>1</td>\n",
       "      <td>Tristana</td>\n",
       "      <td>Kayn</td>\n",
       "      <td>Nami</td>\n",
       "      <td>Rumble</td>\n",
       "      <td>Kassadin</td>\n",
       "      <td>Cassiopeia</td>\n",
       "      <td>Thresh</td>\n",
       "      <td>Jayce</td>\n",
       "      <td>Jax</td>\n",
       "      <td>Ashe</td>\n",
       "    </tr>\n",
       "    <tr>\n",
       "      <th>3</th>\n",
       "      <td>1</td>\n",
       "      <td>Maokai</td>\n",
       "      <td>Brand</td>\n",
       "      <td>Twitch</td>\n",
       "      <td>Orianna</td>\n",
       "      <td>DrMundo</td>\n",
       "      <td>Malzahar</td>\n",
       "      <td>Warwick</td>\n",
       "      <td>Thresh</td>\n",
       "      <td>Riven</td>\n",
       "      <td>Ashe</td>\n",
       "    </tr>\n",
       "    <tr>\n",
       "      <th>4</th>\n",
       "      <td>1</td>\n",
       "      <td>Warwick</td>\n",
       "      <td>Twitch</td>\n",
       "      <td>Janna</td>\n",
       "      <td>Draven</td>\n",
       "      <td>Syndra</td>\n",
       "      <td>Sona</td>\n",
       "      <td>JarvanIV</td>\n",
       "      <td>Kayn</td>\n",
       "      <td>Kassadin</td>\n",
       "      <td>Caitlyn</td>\n",
       "    </tr>\n",
       "  </tbody>\n",
       "</table>\n",
       "</div>"
      ],
      "text/plain": [
       "   bResult blueTopChamp blueJungleChamp blueMiddleChamp blueADCChamp  \\\n",
       "0        1     Vladimir            Bard          KogMaw     MasterYi   \n",
       "1        1       Draven          Irelia         Nidalee        Kayle   \n",
       "2        1     Tristana            Kayn            Nami       Rumble   \n",
       "3        1       Maokai           Brand          Twitch      Orianna   \n",
       "4        1      Warwick          Twitch           Janna       Draven   \n",
       "\n",
       "  blueSupportChamp redTopChamp redJungleChamp redMiddleChamp redADCChamp  \\\n",
       "0           Viktor      Graves          Xayah         Darius         Zed   \n",
       "1            Shaco    Malphite        Morgana        Hecarim       Yasuo   \n",
       "2         Kassadin  Cassiopeia         Thresh          Jayce         Jax   \n",
       "3          DrMundo    Malzahar        Warwick         Thresh       Riven   \n",
       "4           Syndra        Sona       JarvanIV           Kayn    Kassadin   \n",
       "\n",
       "  redSupportChamp  \n",
       "0          Thresh  \n",
       "1           Riven  \n",
       "2            Ashe  \n",
       "3            Ashe  \n",
       "4         Caitlyn  "
      ]
     },
     "execution_count": 13,
     "metadata": {},
     "output_type": "execute_result"
    }
   ],
   "source": [
    "lol.head(5)"
   ]
  },
  {
   "cell_type": "code",
   "execution_count": 15,
   "metadata": {},
   "outputs": [
    {
     "data": {
      "text/plain": [
       "bResult              int64\n",
       "blueTopChamp        object\n",
       "blueJungleChamp     object\n",
       "blueMiddleChamp     object\n",
       "blueADCChamp        object\n",
       "blueSupportChamp    object\n",
       "redTopChamp         object\n",
       "redJungleChamp      object\n",
       "redMiddleChamp      object\n",
       "redADCChamp         object\n",
       "redSupportChamp     object\n",
       "dtype: object"
      ]
     },
     "execution_count": 15,
     "metadata": {},
     "output_type": "execute_result"
    }
   ],
   "source": [
    "lol.dtypes"
   ]
  },
  {
   "cell_type": "code",
   "execution_count": 16,
   "metadata": {},
   "outputs": [
    {
     "data": {
      "text/plain": [
       "bResult              int64\n",
       "blueTopChamp        object\n",
       "blueJungleChamp     object\n",
       "blueMiddleChamp     object\n",
       "blueADCChamp        object\n",
       "blueSupportChamp    object\n",
       "redTopChamp         object\n",
       "redJungleChamp      object\n",
       "redMiddleChamp      object\n",
       "redADCChamp         object\n",
       "redSupportChamp     object\n",
       "dtype: object"
      ]
     },
     "execution_count": 16,
     "metadata": {},
     "output_type": "execute_result"
    }
   ],
   "source": [
    "lol2.dtypes"
   ]
  },
  {
   "cell_type": "code",
   "execution_count": 17,
   "metadata": {},
   "outputs": [],
   "source": [
    "ord_enc=OrdinalEncoder()"
   ]
  },
  {
   "cell_type": "code",
   "execution_count": 18,
   "metadata": {},
   "outputs": [
    {
     "data": {
      "text/plain": [
       "OrdinalEncoder(categories='auto', dtype=<class 'numpy.float64'>)"
      ]
     },
     "execution_count": 18,
     "metadata": {},
     "output_type": "execute_result"
    }
   ],
   "source": [
    "ord_enc.fit(lol[['blueTopChamp','blueJungleChamp','blueMiddleChamp','blueADCChamp','blueSupportChamp','redTopChamp','redJungleChamp','redMiddleChamp','redADCChamp','redSupportChamp']])"
   ]
  },
  {
   "cell_type": "code",
   "execution_count": 19,
   "metadata": {},
   "outputs": [
    {
     "data": {
      "text/plain": [
       "[array(['Aatrox', 'Ahri', 'Akali', 'Alistar', 'Amumu', 'Anivia', 'Annie',\n",
       "        'Ashe', 'AurelionSol', 'Azir', 'Bard', 'Blitzcrank', 'Brand',\n",
       "        'Braum', 'Caitlyn', 'Camille', 'Cassiopeia', 'Chogath', 'Corki',\n",
       "        'Darius', 'Diana', 'DrMundo', 'Draven', 'Ekko', 'Elise', 'Evelynn',\n",
       "        'Ezreal', 'Fiddlesticks', 'Fiora', 'Fizz', 'Galio', 'Gangplank',\n",
       "        'Garen', 'Gnar', 'Gragas', 'Graves', 'Hecarim', 'Heimerdinger',\n",
       "        'Illaoi', 'Irelia', 'Ivern', 'Janna', 'JarvanIV', 'Jax', 'Jayce',\n",
       "        'Jhin', 'Jinx', 'Kalista', 'Karma', 'Karthus', 'Kassadin',\n",
       "        'Katarina', 'Kayle', 'Kayn', 'Kennen', 'Khazix', 'Kindred', 'Kled',\n",
       "        'KogMaw', 'Leblanc', 'LeeSin', 'Leona', 'Lissandra', 'Lucian',\n",
       "        'Lulu', 'Lux', 'Malphite', 'Malzahar', 'Maokai', 'MasterYi',\n",
       "        'MissFortune', 'MonkeyKing', 'Mordekaiser', 'Morgana', 'Nami',\n",
       "        'Nasus', 'Nautilus', 'Nidalee', 'Nocturne', 'Nunu', 'Olaf',\n",
       "        'Orianna', 'Ornn', 'Pantheon', 'Poppy', 'Quinn', 'Rakan', 'Rammus',\n",
       "        'RekSai', 'Renekton', 'Rengar', 'Riven', 'Rumble', 'Ryze',\n",
       "        'Sejuani', 'Shaco', 'Shen', 'Shyvana', 'Singed', 'Sion', 'Sivir',\n",
       "        'Skarner', 'Sona', 'Soraka', 'Swain', 'Syndra', 'TahmKench',\n",
       "        'Taliyah', 'Talon', 'Taric', 'Teemo', 'Thresh', 'Tristana',\n",
       "        'Trundle', 'Tryndamere', 'TwistedFate', 'Twitch', 'Udyr', 'Urgot',\n",
       "        'Varus', 'Vayne', 'Veigar', 'Velkoz', 'Vi', 'Viktor', 'Vladimir',\n",
       "        'Volibear', 'Warwick', 'Xayah', 'Xerath', 'XinZhao', 'Yasuo',\n",
       "        'Yorick', 'Zac', 'Zed', 'Ziggs', 'Zilean', 'Zyra'], dtype=object),\n",
       " array(['Aatrox', 'Ahri', 'Akali', 'Alistar', 'Amumu', 'Anivia', 'Annie',\n",
       "        'Ashe', 'AurelionSol', 'Azir', 'Bard', 'Blitzcrank', 'Brand',\n",
       "        'Braum', 'Caitlyn', 'Camille', 'Cassiopeia', 'Chogath', 'Corki',\n",
       "        'Darius', 'Diana', 'DrMundo', 'Draven', 'Ekko', 'Elise', 'Evelynn',\n",
       "        'Ezreal', 'Fiddlesticks', 'Fiora', 'Fizz', 'Galio', 'Gangplank',\n",
       "        'Garen', 'Gnar', 'Gragas', 'Graves', 'Hecarim', 'Heimerdinger',\n",
       "        'Illaoi', 'Irelia', 'Ivern', 'Janna', 'JarvanIV', 'Jax', 'Jayce',\n",
       "        'Jhin', 'Jinx', 'Kalista', 'Karma', 'Karthus', 'Kassadin',\n",
       "        'Katarina', 'Kayle', 'Kayn', 'Kennen', 'Khazix', 'Kindred', 'Kled',\n",
       "        'KogMaw', 'Leblanc', 'LeeSin', 'Leona', 'Lissandra', 'Lucian',\n",
       "        'Lulu', 'Lux', 'Malphite', 'Malzahar', 'Maokai', 'MasterYi',\n",
       "        'MissFortune', 'MonkeyKing', 'Mordekaiser', 'Morgana', 'Nami',\n",
       "        'Nasus', 'Nautilus', 'Nidalee', 'Nocturne', 'Nunu', 'Olaf',\n",
       "        'Orianna', 'Ornn', 'Pantheon', 'Poppy', 'Quinn', 'Rakan', 'Rammus',\n",
       "        'RekSai', 'Renekton', 'Rengar', 'Riven', 'Rumble', 'Ryze',\n",
       "        'Sejuani', 'Shaco', 'Shen', 'Shyvana', 'Singed', 'Sion', 'Sivir',\n",
       "        'Skarner', 'Sona', 'Soraka', 'Swain', 'Syndra', 'TahmKench',\n",
       "        'Taliyah', 'Talon', 'Taric', 'Teemo', 'Thresh', 'Tristana',\n",
       "        'Trundle', 'Tryndamere', 'TwistedFate', 'Twitch', 'Udyr', 'Urgot',\n",
       "        'Varus', 'Vayne', 'Veigar', 'Velkoz', 'Vi', 'Viktor', 'Vladimir',\n",
       "        'Volibear', 'Warwick', 'Xayah', 'Xerath', 'XinZhao', 'Yasuo',\n",
       "        'Yorick', 'Zac', 'Zed', 'Ziggs', 'Zilean', 'Zyra'], dtype=object),\n",
       " array(['Aatrox', 'Ahri', 'Akali', 'Alistar', 'Amumu', 'Anivia', 'Annie',\n",
       "        'Ashe', 'AurelionSol', 'Azir', 'Bard', 'Blitzcrank', 'Brand',\n",
       "        'Braum', 'Caitlyn', 'Camille', 'Cassiopeia', 'Chogath', 'Corki',\n",
       "        'Darius', 'Diana', 'DrMundo', 'Draven', 'Ekko', 'Elise', 'Evelynn',\n",
       "        'Ezreal', 'Fiddlesticks', 'Fiora', 'Fizz', 'Galio', 'Gangplank',\n",
       "        'Garen', 'Gnar', 'Gragas', 'Graves', 'Hecarim', 'Heimerdinger',\n",
       "        'Illaoi', 'Irelia', 'Ivern', 'Janna', 'JarvanIV', 'Jax', 'Jayce',\n",
       "        'Jhin', 'Jinx', 'Kalista', 'Karma', 'Karthus', 'Kassadin',\n",
       "        'Katarina', 'Kayle', 'Kayn', 'Kennen', 'Khazix', 'Kindred', 'Kled',\n",
       "        'KogMaw', 'Leblanc', 'LeeSin', 'Leona', 'Lissandra', 'Lucian',\n",
       "        'Lulu', 'Lux', 'Malphite', 'Malzahar', 'Maokai', 'MasterYi',\n",
       "        'MissFortune', 'MonkeyKing', 'Mordekaiser', 'Morgana', 'Nami',\n",
       "        'Nasus', 'Nautilus', 'Nidalee', 'Nocturne', 'Nunu', 'Olaf',\n",
       "        'Orianna', 'Ornn', 'Pantheon', 'Poppy', 'Quinn', 'Rakan', 'Rammus',\n",
       "        'RekSai', 'Renekton', 'Rengar', 'Riven', 'Rumble', 'Ryze',\n",
       "        'Sejuani', 'Shaco', 'Shen', 'Shyvana', 'Singed', 'Sion', 'Sivir',\n",
       "        'Skarner', 'Sona', 'Soraka', 'Swain', 'Syndra', 'TahmKench',\n",
       "        'Taliyah', 'Talon', 'Taric', 'Teemo', 'Thresh', 'Tristana',\n",
       "        'Trundle', 'Tryndamere', 'TwistedFate', 'Twitch', 'Udyr', 'Urgot',\n",
       "        'Varus', 'Vayne', 'Veigar', 'Velkoz', 'Vi', 'Viktor', 'Vladimir',\n",
       "        'Volibear', 'Warwick', 'Xayah', 'Xerath', 'XinZhao', 'Yasuo',\n",
       "        'Yorick', 'Zac', 'Zed', 'Ziggs', 'Zilean', 'Zyra'], dtype=object),\n",
       " array(['Aatrox', 'Ahri', 'Akali', 'Alistar', 'Amumu', 'Anivia', 'Annie',\n",
       "        'Ashe', 'AurelionSol', 'Azir', 'Bard', 'Blitzcrank', 'Brand',\n",
       "        'Braum', 'Caitlyn', 'Camille', 'Cassiopeia', 'Chogath', 'Corki',\n",
       "        'Darius', 'Diana', 'DrMundo', 'Draven', 'Ekko', 'Elise', 'Evelynn',\n",
       "        'Ezreal', 'Fiddlesticks', 'Fiora', 'Fizz', 'Galio', 'Gangplank',\n",
       "        'Garen', 'Gnar', 'Gragas', 'Graves', 'Hecarim', 'Heimerdinger',\n",
       "        'Illaoi', 'Irelia', 'Ivern', 'Janna', 'JarvanIV', 'Jax', 'Jayce',\n",
       "        'Jhin', 'Jinx', 'Kalista', 'Karma', 'Karthus', 'Kassadin',\n",
       "        'Katarina', 'Kayle', 'Kayn', 'Kennen', 'Khazix', 'Kindred', 'Kled',\n",
       "        'KogMaw', 'Leblanc', 'LeeSin', 'Leona', 'Lissandra', 'Lucian',\n",
       "        'Lulu', 'Lux', 'Malphite', 'Malzahar', 'Maokai', 'MasterYi',\n",
       "        'MissFortune', 'MonkeyKing', 'Mordekaiser', 'Morgana', 'Nami',\n",
       "        'Nasus', 'Nautilus', 'Nidalee', 'Nocturne', 'Nunu', 'Olaf',\n",
       "        'Orianna', 'Ornn', 'Pantheon', 'Poppy', 'Quinn', 'Rakan', 'Rammus',\n",
       "        'RekSai', 'Renekton', 'Rengar', 'Riven', 'Rumble', 'Ryze',\n",
       "        'Sejuani', 'Shaco', 'Shen', 'Shyvana', 'Singed', 'Sion', 'Sivir',\n",
       "        'Skarner', 'Sona', 'Soraka', 'Swain', 'Syndra', 'TahmKench',\n",
       "        'Taliyah', 'Talon', 'Taric', 'Teemo', 'Thresh', 'Tristana',\n",
       "        'Trundle', 'Tryndamere', 'TwistedFate', 'Twitch', 'Udyr', 'Urgot',\n",
       "        'Varus', 'Vayne', 'Veigar', 'Velkoz', 'Vi', 'Viktor', 'Vladimir',\n",
       "        'Volibear', 'Warwick', 'Xayah', 'Xerath', 'XinZhao', 'Yasuo',\n",
       "        'Yorick', 'Zac', 'Zed', 'Ziggs', 'Zilean', 'Zyra'], dtype=object),\n",
       " array(['Aatrox', 'Ahri', 'Akali', 'Alistar', 'Amumu', 'Anivia', 'Annie',\n",
       "        'Ashe', 'AurelionSol', 'Azir', 'Bard', 'Blitzcrank', 'Brand',\n",
       "        'Braum', 'Caitlyn', 'Camille', 'Cassiopeia', 'Chogath', 'Corki',\n",
       "        'Darius', 'Diana', 'DrMundo', 'Draven', 'Ekko', 'Elise', 'Evelynn',\n",
       "        'Ezreal', 'Fiddlesticks', 'Fiora', 'Fizz', 'Galio', 'Gangplank',\n",
       "        'Garen', 'Gnar', 'Gragas', 'Graves', 'Hecarim', 'Heimerdinger',\n",
       "        'Illaoi', 'Irelia', 'Ivern', 'Janna', 'JarvanIV', 'Jax', 'Jayce',\n",
       "        'Jhin', 'Jinx', 'Kalista', 'Karma', 'Karthus', 'Kassadin',\n",
       "        'Katarina', 'Kayle', 'Kayn', 'Kennen', 'Khazix', 'Kindred', 'Kled',\n",
       "        'KogMaw', 'Leblanc', 'LeeSin', 'Leona', 'Lissandra', 'Lucian',\n",
       "        'Lulu', 'Lux', 'Malphite', 'Malzahar', 'Maokai', 'MasterYi',\n",
       "        'MissFortune', 'MonkeyKing', 'Mordekaiser', 'Morgana', 'Nami',\n",
       "        'Nasus', 'Nautilus', 'Nidalee', 'Nocturne', 'Nunu', 'Olaf',\n",
       "        'Orianna', 'Ornn', 'Pantheon', 'Poppy', 'Quinn', 'Rakan', 'Rammus',\n",
       "        'RekSai', 'Renekton', 'Rengar', 'Riven', 'Rumble', 'Ryze',\n",
       "        'Sejuani', 'Shaco', 'Shen', 'Shyvana', 'Singed', 'Sion', 'Sivir',\n",
       "        'Skarner', 'Sona', 'Soraka', 'Swain', 'Syndra', 'TahmKench',\n",
       "        'Taliyah', 'Talon', 'Taric', 'Teemo', 'Thresh', 'Tristana',\n",
       "        'Trundle', 'Tryndamere', 'TwistedFate', 'Twitch', 'Udyr', 'Urgot',\n",
       "        'Varus', 'Vayne', 'Veigar', 'Velkoz', 'Vi', 'Viktor', 'Vladimir',\n",
       "        'Volibear', 'Warwick', 'Xayah', 'Xerath', 'XinZhao', 'Yasuo',\n",
       "        'Yorick', 'Zac', 'Zed', 'Ziggs', 'Zilean', 'Zyra'], dtype=object),\n",
       " array(['Aatrox', 'Ahri', 'Akali', 'Alistar', 'Amumu', 'Anivia', 'Annie',\n",
       "        'Ashe', 'AurelionSol', 'Azir', 'Bard', 'Blitzcrank', 'Brand',\n",
       "        'Braum', 'Caitlyn', 'Camille', 'Cassiopeia', 'Chogath', 'Corki',\n",
       "        'Darius', 'Diana', 'DrMundo', 'Draven', 'Ekko', 'Elise', 'Evelynn',\n",
       "        'Ezreal', 'Fiddlesticks', 'Fiora', 'Fizz', 'Galio', 'Gangplank',\n",
       "        'Garen', 'Gnar', 'Gragas', 'Graves', 'Hecarim', 'Heimerdinger',\n",
       "        'Illaoi', 'Irelia', 'Ivern', 'Janna', 'JarvanIV', 'Jax', 'Jayce',\n",
       "        'Jhin', 'Jinx', 'Kalista', 'Karma', 'Karthus', 'Kassadin',\n",
       "        'Katarina', 'Kayle', 'Kayn', 'Kennen', 'Khazix', 'Kindred', 'Kled',\n",
       "        'KogMaw', 'Leblanc', 'LeeSin', 'Leona', 'Lissandra', 'Lucian',\n",
       "        'Lulu', 'Lux', 'Malphite', 'Malzahar', 'Maokai', 'MasterYi',\n",
       "        'MissFortune', 'MonkeyKing', 'Mordekaiser', 'Morgana', 'Nami',\n",
       "        'Nasus', 'Nautilus', 'Nidalee', 'Nocturne', 'Nunu', 'Olaf',\n",
       "        'Orianna', 'Ornn', 'Pantheon', 'Poppy', 'Quinn', 'Rakan', 'Rammus',\n",
       "        'RekSai', 'Renekton', 'Rengar', 'Riven', 'Rumble', 'Ryze',\n",
       "        'Sejuani', 'Shaco', 'Shen', 'Shyvana', 'Singed', 'Sion', 'Sivir',\n",
       "        'Skarner', 'Sona', 'Soraka', 'Swain', 'Syndra', 'TahmKench',\n",
       "        'Taliyah', 'Talon', 'Taric', 'Teemo', 'Thresh', 'Tristana',\n",
       "        'Trundle', 'Tryndamere', 'TwistedFate', 'Twitch', 'Udyr', 'Urgot',\n",
       "        'Varus', 'Vayne', 'Veigar', 'Velkoz', 'Vi', 'Viktor', 'Vladimir',\n",
       "        'Volibear', 'Warwick', 'Xayah', 'Xerath', 'XinZhao', 'Yasuo',\n",
       "        'Yorick', 'Zac', 'Zed', 'Ziggs', 'Zilean', 'Zyra'], dtype=object),\n",
       " array(['Aatrox', 'Ahri', 'Akali', 'Alistar', 'Amumu', 'Anivia', 'Annie',\n",
       "        'Ashe', 'AurelionSol', 'Azir', 'Bard', 'Blitzcrank', 'Brand',\n",
       "        'Braum', 'Caitlyn', 'Camille', 'Cassiopeia', 'Chogath', 'Corki',\n",
       "        'Darius', 'Diana', 'DrMundo', 'Draven', 'Ekko', 'Elise', 'Evelynn',\n",
       "        'Ezreal', 'Fiddlesticks', 'Fiora', 'Fizz', 'Galio', 'Gangplank',\n",
       "        'Garen', 'Gnar', 'Gragas', 'Graves', 'Hecarim', 'Heimerdinger',\n",
       "        'Illaoi', 'Irelia', 'Ivern', 'Janna', 'JarvanIV', 'Jax', 'Jayce',\n",
       "        'Jhin', 'Jinx', 'Kalista', 'Karma', 'Karthus', 'Kassadin',\n",
       "        'Katarina', 'Kayle', 'Kayn', 'Kennen', 'Khazix', 'Kindred', 'Kled',\n",
       "        'KogMaw', 'Leblanc', 'LeeSin', 'Leona', 'Lissandra', 'Lucian',\n",
       "        'Lulu', 'Lux', 'Malphite', 'Malzahar', 'Maokai', 'MasterYi',\n",
       "        'MissFortune', 'MonkeyKing', 'Mordekaiser', 'Morgana', 'Nami',\n",
       "        'Nasus', 'Nautilus', 'Nidalee', 'Nocturne', 'Nunu', 'Olaf',\n",
       "        'Orianna', 'Ornn', 'Pantheon', 'Poppy', 'Quinn', 'Rakan', 'Rammus',\n",
       "        'RekSai', 'Renekton', 'Rengar', 'Riven', 'Rumble', 'Ryze',\n",
       "        'Sejuani', 'Shaco', 'Shen', 'Shyvana', 'Singed', 'Sion', 'Sivir',\n",
       "        'Skarner', 'Sona', 'Soraka', 'Swain', 'Syndra', 'TahmKench',\n",
       "        'Taliyah', 'Talon', 'Taric', 'Teemo', 'Thresh', 'Tristana',\n",
       "        'Trundle', 'Tryndamere', 'TwistedFate', 'Twitch', 'Udyr', 'Urgot',\n",
       "        'Varus', 'Vayne', 'Veigar', 'Velkoz', 'Vi', 'Viktor', 'Vladimir',\n",
       "        'Volibear', 'Warwick', 'Xayah', 'Xerath', 'XinZhao', 'Yasuo',\n",
       "        'Yorick', 'Zac', 'Zed', 'Ziggs', 'Zilean', 'Zyra'], dtype=object),\n",
       " array(['Aatrox', 'Ahri', 'Akali', 'Alistar', 'Amumu', 'Anivia', 'Annie',\n",
       "        'Ashe', 'AurelionSol', 'Azir', 'Bard', 'Blitzcrank', 'Brand',\n",
       "        'Braum', 'Caitlyn', 'Camille', 'Cassiopeia', 'Chogath', 'Corki',\n",
       "        'Darius', 'Diana', 'DrMundo', 'Draven', 'Ekko', 'Elise', 'Evelynn',\n",
       "        'Ezreal', 'Fiddlesticks', 'Fiora', 'Fizz', 'Galio', 'Gangplank',\n",
       "        'Garen', 'Gnar', 'Gragas', 'Graves', 'Hecarim', 'Heimerdinger',\n",
       "        'Illaoi', 'Irelia', 'Ivern', 'Janna', 'JarvanIV', 'Jax', 'Jayce',\n",
       "        'Jhin', 'Jinx', 'Kalista', 'Karma', 'Karthus', 'Kassadin',\n",
       "        'Katarina', 'Kayle', 'Kayn', 'Kennen', 'Khazix', 'Kindred', 'Kled',\n",
       "        'KogMaw', 'Leblanc', 'LeeSin', 'Leona', 'Lissandra', 'Lucian',\n",
       "        'Lulu', 'Lux', 'Malphite', 'Malzahar', 'Maokai', 'MasterYi',\n",
       "        'MissFortune', 'MonkeyKing', 'Mordekaiser', 'Morgana', 'Nami',\n",
       "        'Nasus', 'Nautilus', 'Nidalee', 'Nocturne', 'Nunu', 'Olaf',\n",
       "        'Orianna', 'Ornn', 'Pantheon', 'Poppy', 'Quinn', 'Rakan', 'Rammus',\n",
       "        'RekSai', 'Renekton', 'Rengar', 'Riven', 'Rumble', 'Ryze',\n",
       "        'Sejuani', 'Shaco', 'Shen', 'Shyvana', 'Singed', 'Sion', 'Sivir',\n",
       "        'Skarner', 'Sona', 'Soraka', 'Swain', 'Syndra', 'TahmKench',\n",
       "        'Taliyah', 'Talon', 'Taric', 'Teemo', 'Thresh', 'Tristana',\n",
       "        'Trundle', 'Tryndamere', 'TwistedFate', 'Twitch', 'Udyr', 'Urgot',\n",
       "        'Varus', 'Vayne', 'Veigar', 'Velkoz', 'Vi', 'Viktor', 'Vladimir',\n",
       "        'Volibear', 'Warwick', 'Xayah', 'Xerath', 'XinZhao', 'Yasuo',\n",
       "        'Yorick', 'Zac', 'Zed', 'Ziggs', 'Zilean', 'Zyra'], dtype=object),\n",
       " array(['Aatrox', 'Ahri', 'Akali', 'Alistar', 'Amumu', 'Anivia', 'Annie',\n",
       "        'Ashe', 'AurelionSol', 'Azir', 'Bard', 'Blitzcrank', 'Brand',\n",
       "        'Braum', 'Caitlyn', 'Camille', 'Cassiopeia', 'Chogath', 'Corki',\n",
       "        'Darius', 'Diana', 'DrMundo', 'Draven', 'Ekko', 'Elise', 'Evelynn',\n",
       "        'Ezreal', 'Fiddlesticks', 'Fiora', 'Fizz', 'Galio', 'Gangplank',\n",
       "        'Garen', 'Gnar', 'Gragas', 'Graves', 'Hecarim', 'Heimerdinger',\n",
       "        'Illaoi', 'Irelia', 'Ivern', 'Janna', 'JarvanIV', 'Jax', 'Jayce',\n",
       "        'Jhin', 'Jinx', 'Kalista', 'Karma', 'Karthus', 'Kassadin',\n",
       "        'Katarina', 'Kayle', 'Kayn', 'Kennen', 'Khazix', 'Kindred', 'Kled',\n",
       "        'KogMaw', 'Leblanc', 'LeeSin', 'Leona', 'Lissandra', 'Lucian',\n",
       "        'Lulu', 'Lux', 'Malphite', 'Malzahar', 'Maokai', 'MasterYi',\n",
       "        'MissFortune', 'MonkeyKing', 'Mordekaiser', 'Morgana', 'Nami',\n",
       "        'Nasus', 'Nautilus', 'Nidalee', 'Nocturne', 'Nunu', 'Olaf',\n",
       "        'Orianna', 'Ornn', 'Pantheon', 'Poppy', 'Quinn', 'Rakan', 'Rammus',\n",
       "        'RekSai', 'Renekton', 'Rengar', 'Riven', 'Rumble', 'Ryze',\n",
       "        'Sejuani', 'Shaco', 'Shen', 'Shyvana', 'Singed', 'Sion', 'Sivir',\n",
       "        'Skarner', 'Sona', 'Soraka', 'Swain', 'Syndra', 'TahmKench',\n",
       "        'Taliyah', 'Talon', 'Taric', 'Teemo', 'Thresh', 'Tristana',\n",
       "        'Trundle', 'Tryndamere', 'TwistedFate', 'Twitch', 'Udyr', 'Urgot',\n",
       "        'Varus', 'Vayne', 'Veigar', 'Velkoz', 'Vi', 'Viktor', 'Vladimir',\n",
       "        'Volibear', 'Warwick', 'Xayah', 'Xerath', 'XinZhao', 'Yasuo',\n",
       "        'Yorick', 'Zac', 'Zed', 'Ziggs', 'Zilean', 'Zyra'], dtype=object),\n",
       " array(['Aatrox', 'Ahri', 'Akali', 'Alistar', 'Amumu', 'Anivia', 'Annie',\n",
       "        'Ashe', 'AurelionSol', 'Azir', 'Bard', 'Blitzcrank', 'Brand',\n",
       "        'Braum', 'Caitlyn', 'Camille', 'Cassiopeia', 'Chogath', 'Corki',\n",
       "        'Darius', 'Diana', 'DrMundo', 'Draven', 'Ekko', 'Elise', 'Evelynn',\n",
       "        'Ezreal', 'Fiddlesticks', 'Fiora', 'Fizz', 'Galio', 'Gangplank',\n",
       "        'Garen', 'Gnar', 'Gragas', 'Graves', 'Hecarim', 'Heimerdinger',\n",
       "        'Illaoi', 'Irelia', 'Ivern', 'Janna', 'JarvanIV', 'Jax', 'Jayce',\n",
       "        'Jhin', 'Jinx', 'Kalista', 'Karma', 'Karthus', 'Kassadin',\n",
       "        'Katarina', 'Kayle', 'Kayn', 'Kennen', 'Khazix', 'Kindred', 'Kled',\n",
       "        'KogMaw', 'Leblanc', 'LeeSin', 'Leona', 'Lissandra', 'Lucian',\n",
       "        'Lulu', 'Lux', 'Malphite', 'Malzahar', 'Maokai', 'MasterYi',\n",
       "        'MissFortune', 'MonkeyKing', 'Mordekaiser', 'Morgana', 'Nami',\n",
       "        'Nasus', 'Nautilus', 'Nidalee', 'Nocturne', 'Nunu', 'Olaf',\n",
       "        'Orianna', 'Ornn', 'Pantheon', 'Poppy', 'Quinn', 'Rakan', 'Rammus',\n",
       "        'RekSai', 'Renekton', 'Rengar', 'Riven', 'Rumble', 'Ryze',\n",
       "        'Sejuani', 'Shaco', 'Shen', 'Shyvana', 'Singed', 'Sion', 'Sivir',\n",
       "        'Skarner', 'Sona', 'Soraka', 'Swain', 'Syndra', 'TahmKench',\n",
       "        'Taliyah', 'Talon', 'Taric', 'Teemo', 'Thresh', 'Tristana',\n",
       "        'Trundle', 'Tryndamere', 'TwistedFate', 'Twitch', 'Udyr', 'Urgot',\n",
       "        'Varus', 'Vayne', 'Veigar', 'Velkoz', 'Vi', 'Viktor', 'Vladimir',\n",
       "        'Volibear', 'Warwick', 'Xayah', 'Xerath', 'XinZhao', 'Yasuo',\n",
       "        'Yorick', 'Zac', 'Zed', 'Ziggs', 'Zilean', 'Zyra'], dtype=object)]"
      ]
     },
     "execution_count": 19,
     "metadata": {},
     "output_type": "execute_result"
    }
   ],
   "source": [
    "ord_enc.categories_"
   ]
  },
  {
   "cell_type": "code",
   "execution_count": 20,
   "metadata": {},
   "outputs": [],
   "source": [
    "champ_list=['Aatrox','Ahri','Akali','Alistar','Amumu','Anivia','Annie','Ashe','AurelionSol','Azir','Bard','Blitzcrank','Brand','Braum','Caitlyn','Camille','Cassiopeia','Chogath','Corki','Darius','Diana','DrMundo','Draven','Ekko','Elise','Evelynn','Ezreal','Fiddlesticks','Fiora','Fizz','Galio','Gangplank','Garen','Gnar','Gragas','Graves','Hecarim','Heimerdinger','Illaoi','Irelia','Ivern','Janna','JarvanIV','Jax','Jayce','Jhin','Jinx','KaiSa','Kalista','Karma','Karthus','Kassadin','Katarina','Kayle','Kayn','Kennen','Khazix','Kindred','Kled','KogMaw','Leblanc','LeeSin','Leona','Lissandra','Lucian','Lulu','Lux','Malphite','Malzahar','Maokai','MasterYi','MissFortune','Mordekaiser','Morgana','Nami','Nasus','Nautilus','Neeko','Nidalee','Nocturne','Nunu','Olaf','Orianna','Ornn','Pantheon','Poppy','Pyke','Qiyana','Quinn','Rakan','Rammus','RekSai','Renekton','Rengar','Riven','Rumble','Ryze','Sejuani','Shaco','Shen','Shyvana','Singed','Sion','Sivir','Skarner','Sona','Soraka','Swain','Sylas','Syndra','TahmKench','Taliyah','Talon','Taric','Teemo','Thresh','Tristana','Trundle','Tryndamere','TwistedFate','Twitch','Udyr','Urgot','Varus','Vayne','Veigar','Velkoz','Vi','Viktor','Vladimir','Volibear','Warwick','Monkeyking','Xayah','Xerath','XinZhao','Yasuo','Yorick','Yuumi','Zac','Zed','Ziggs','Zilean','Zoe','Zyra']"
   ]
  },
  {
   "cell_type": "code",
   "execution_count": 22,
   "metadata": {},
   "outputs": [],
   "source": [
    "num_list=torch.zeros([51490,145])"
   ]
  },
  {
   "cell_type": "code",
   "execution_count": 23,
   "metadata": {},
   "outputs": [],
   "source": [
    "for i in range(145):\n",
    "    for j in range(51490):\n",
    "        if (lol.blueTopChamp[j]==champ_list[i]): num_list[j,i]+=1\n",
    "        if (lol.blueJungleChamp[j]==champ_list[i]): num_list[j,i]+=1\n",
    "        if (lol.blueMiddleChamp[j]==champ_list[i]): num_list[j,i]+=1\n",
    "        if (lol.blueADCChamp[j]==champ_list[i]): num_list[j,i]+=1\n",
    "        if (lol.blueSupportChamp[j]==champ_list[i]): num_list[j,i]+=1\n",
    "        if (lol.redTopChamp[j]==champ_list[i]): num_list[j,i]-=1\n",
    "        if (lol.redJungleChamp[j]==champ_list[i]): num_list[j,i]-=1\n",
    "        if (lol.redMiddleChamp[j]==champ_list[i]): num_list[j,i]-=1\n",
    "        if (lol.redADCChamp[j]==champ_list[i]): num_list[j,i]-=1\n",
    "        if (lol.redSupportChamp[j]==champ_list[i]): num_list[j,i]-=1   "
   ]
  },
  {
   "cell_type": "code",
   "execution_count": 24,
   "metadata": {},
   "outputs": [
    {
     "name": "stdout",
     "output_type": "stream",
     "text": [
      "tensor([[0., 0., 0.,  ..., 0., 0., 0.],\n",
      "        [0., 0., 0.,  ..., 0., 0., 0.],\n",
      "        [0., 0., 0.,  ..., 0., 0., 0.],\n",
      "        ...,\n",
      "        [0., 0., 0.,  ..., 0., 0., 0.],\n",
      "        [0., 0., 0.,  ..., 0., 0., 0.],\n",
      "        [0., 0., 0.,  ..., 0., 0., 0.]])\n"
     ]
    }
   ],
   "source": [
    "print(num_list)"
   ]
  },
  {
   "cell_type": "code",
   "execution_count": 25,
   "metadata": {},
   "outputs": [
    {
     "data": {
      "text/plain": [
       "bResult              int64\n",
       "blueTopChamp        object\n",
       "blueJungleChamp     object\n",
       "blueMiddleChamp     object\n",
       "blueADCChamp        object\n",
       "blueSupportChamp    object\n",
       "redTopChamp         object\n",
       "redJungleChamp      object\n",
       "redMiddleChamp      object\n",
       "redADCChamp         object\n",
       "redSupportChamp     object\n",
       "dtype: object"
      ]
     },
     "execution_count": 25,
     "metadata": {},
     "output_type": "execute_result"
    }
   ],
   "source": [
    "lol.dtypes"
   ]
  },
  {
   "cell_type": "code",
   "execution_count": 29,
   "metadata": {},
   "outputs": [
    {
     "data": {
      "text/plain": [
       "bResult    int64\n",
       "dtype: object"
      ]
     },
     "execution_count": 29,
     "metadata": {},
     "output_type": "execute_result"
    }
   ],
   "source": [
    "lol2.dtypes"
   ]
  },
  {
   "cell_type": "code",
   "execution_count": 30,
   "metadata": {},
   "outputs": [],
   "source": [
    "train_x_data = Variable((num_list[:43000, 0:]))\n",
    "train_y_data = Variable(torch.from_numpy(lol2.values[:43000, [0]]))\n",
    "test_x_data = Variable((num_list[43000:, 0:]))\n",
    "test_y_data = Variable(torch.from_numpy(lol2.values[43000:, [0]]))"
   ]
  },
  {
   "cell_type": "code",
   "execution_count": 31,
   "metadata": {},
   "outputs": [
    {
     "data": {
      "text/plain": [
       "torch.Size([43000, 145])"
      ]
     },
     "execution_count": 31,
     "metadata": {},
     "output_type": "execute_result"
    }
   ],
   "source": [
    "train_x_data.data.shape"
   ]
  },
  {
   "cell_type": "code",
   "execution_count": 32,
   "metadata": {},
   "outputs": [
    {
     "data": {
      "text/plain": [
       "torch.Size([8490, 145])"
      ]
     },
     "execution_count": 32,
     "metadata": {},
     "output_type": "execute_result"
    }
   ],
   "source": [
    "test_x_data.data.shape"
   ]
  },
  {
   "cell_type": "code",
   "execution_count": 47,
   "metadata": {},
   "outputs": [],
   "source": [
    "class lolDataset(Dataset):\n",
    "  def __init__(self):\n",
    "    self.len=43000\n",
    "    self.x_data = Variable(train_x_data)\n",
    "    self.y_data = Variable(train_y_data)\n",
    "    \n",
    "  def __getitem__(self, index):\n",
    "    return self.x_data[index], self.y_data[index]\n",
    "  \n",
    "  def __len__(self):\n",
    "    return self.len"
   ]
  },
  {
   "cell_type": "code",
   "execution_count": 48,
   "metadata": {},
   "outputs": [],
   "source": [
    "dataset = lolDataset()\n",
    "train_loader = DataLoader(dataset = dataset, batch_size = 20, shuffle=True, num_workers=0)"
   ]
  },
  {
   "cell_type": "code",
   "execution_count": 49,
   "metadata": {},
   "outputs": [],
   "source": [
    "class Model(torch.nn.Module):\n",
    "\n",
    "    def __init__(self):\n",
    "        \"\"\"\n",
    "        In the constructor we instantiate two nn.Linear module\n",
    "        \"\"\"\n",
    "        super(Model, self).__init__()\n",
    "        self.linear1 = torch.nn.Linear(145, 250)\n",
    "        self.ReLU1 = torch.nn.ReLU(250).cuda()\n",
    "        self.linear2 = torch.nn.Linear(250, 350)\n",
    "        self.ReLU2 = torch.nn.ReLU(350).cuda()\n",
    "        self.linear3 = torch.nn.Linear(350, 200)\n",
    "        self.ReLU3 = torch.nn.ReLU(200).cuda()\n",
    "        self.linear4 = torch.nn.Linear(200, 75)\n",
    "        self.ReLU4 = torch.nn.ReLU(75).cuda()\n",
    "        self.linear5 = torch.nn.Linear(75, 1)\n",
    "    def forward(self, x):\n",
    "\n",
    "        out1 = self.linear1(x)\n",
    "        out2 = self.ReLU1(out1)\n",
    "        out3 = self.linear2(out2)\n",
    "        out4 = self.ReLU2(out3)\n",
    "        out5 = self.linear3(out4)\n",
    "        out6 = self.ReLU3(out5)\n",
    "        out7 = self.linear4(out6)\n",
    "        out8 = self.ReLU4(out7)\n",
    "        y_pred = self.linear5(out8)\n",
    "        return torch.sigmoid(y_pred)"
   ]
  },
  {
   "cell_type": "code",
   "execution_count": 50,
   "metadata": {},
   "outputs": [],
   "source": [
    "model=Model()"
   ]
  },
  {
   "cell_type": "code",
   "execution_count": 51,
   "metadata": {},
   "outputs": [],
   "source": [
    "# Construct our loss function and an Optimizer. The call to model.parameters()\n",
    "# in the SGD constructor will contain the learnable parameters of the two\n",
    "# nn.Linear modules which are members of the model.\n",
    "criterion = torch.nn.BCELoss(reduction='sum')\n",
    "#criterion = torch.sqrt(criterion)\n",
    "optimizer = torch.optim.Adam(model.parameters(), lr=2e-3)\n",
    "\n",
    "\n"
   ]
  },
  {
   "cell_type": "code",
   "execution_count": 52,
   "metadata": {},
   "outputs": [],
   "source": [
    "device = torch.device(\"cuda\" if torch.cuda.is_available() else \"cpu\")"
   ]
  },
  {
   "cell_type": "code",
   "execution_count": null,
   "metadata": {},
   "outputs": [
    {
     "name": "stdout",
     "output_type": "stream",
     "text": [
      "epoch=  0 rmse=  0.18815167744847008\n",
      "0.5089517078916372\n",
      "epoch=  1 rmse=  0.2010343507479855\n",
      "0.5137809187279152\n",
      "epoch=  2 rmse=  0.18422158413001952\n",
      "0.511660777385159\n",
      "epoch=  3 rmse=  0.18454851294254035\n",
      "0.5123674911660777\n",
      "epoch=  4 rmse=  0.18866065527053816\n",
      "0.5111896348645465\n",
      "epoch=  5 rmse=  0.18143516117931477\n",
      "0.5114252061248528\n",
      "epoch=  6 rmse=  0.18383205450148662\n",
      "0.5138987043580683\n",
      "epoch=  7 rmse=  0.17266017749686394\n",
      "0.5144876325088339\n",
      "epoch=  8 rmse=  0.17800010476953124\n",
      "0.5131919905771496\n",
      "epoch=  9 rmse=  0.17974509477156408\n",
      "0.5095406360424029\n",
      "epoch=  10 rmse=  0.17494417198373932\n",
      "0.512603062426384\n",
      "epoch=  11 rmse=  0.1684188965465848\n",
      "0.5183745583038869\n",
      "epoch=  12 rmse=  0.1783952478266079\n",
      "0.5167255594817433\n",
      "epoch=  13 rmse=  0.17254846475143984\n",
      "0.5134275618374559\n",
      "epoch=  14 rmse=  0.16794607652620913\n",
      "0.5170789163722026\n",
      "epoch=  15 rmse=  0.16876499939413978\n",
      "0.5147232037691402\n",
      "epoch=  16 rmse=  0.166044602950477\n",
      "0.5102473498233215\n",
      "epoch=  17 rmse=  0.1662045918025441\n",
      "0.5144876325088339\n",
      "epoch=  18 rmse=  0.16221685752984638\n",
      "0.5140164899882215\n",
      "epoch=  19 rmse=  0.16015551729732477\n",
      "0.5159010600706714\n",
      "epoch=  20 rmse=  0.1617267125238049\n",
      "0.5163722025912839\n",
      "epoch=  21 rmse=  0.16555351005496602\n",
      "0.5118963486454653\n",
      "epoch=  22 rmse=  0.15745570384899824\n",
      "0.5151943462897527\n",
      "epoch=  23 rmse=  0.16218675352303302\n",
      "0.5171967020023557\n",
      "epoch=  24 rmse=  0.16190788086984811\n",
      "0.5113074204946997\n",
      "epoch=  25 rmse=  0.16063157351101212\n",
      "0.5118963486454653\n",
      "epoch=  26 rmse=  0.15043260558137792\n",
      "0.5169611307420495\n",
      "epoch=  27 rmse=  0.15809171780593845\n",
      "0.5170789163722026\n"
     ]
    }
   ],
   "source": [
    "for epoch in range(100):\n",
    "    \n",
    "    mean_loss = 0\n",
    "    \n",
    "    for data, target in train_loader:\n",
    "        data = data.view(data.shape[0], -1)\n",
    "      \n",
    "    for i, data in enumerate(train_loader, 0):\n",
    "        # get the inputs\n",
    "        inputs, labels = data\n",
    "\n",
    "        # wrap them in Variable\n",
    "        inputs, labels = Variable(inputs), Variable(labels)\n",
    "\n",
    "        inputs = inputs.float()\n",
    "        labels = labels.float()\n",
    "\n",
    "        # Forward pass: Compute predicted y by passing x to the model\n",
    "        y_pred = model(inputs)\n",
    "        # Compute and print loss\n",
    "        loss = criterion(y_pred, labels) #Sum of MSE for 32 items in batch\n",
    "        #print(epoch, i, loss.data.item())\n",
    "        mean_loss+=torch.sum(loss)\n",
    "        \n",
    "        # Zero gradients, perform a backward pass, and update the weights.\n",
    "        optimizer.zero_grad()\n",
    "        loss.backward()\n",
    "        optimizer.step()\n",
    "    \n",
    "    from math import sqrt\n",
    "    \n",
    "    mean_loss/=43000\n",
    "    print('epoch= ', epoch, 'rmse= ', sqrt(mean_loss))\n",
    "    accuracy(test_loader)"
   ]
  },
  {
   "cell_type": "code",
   "execution_count": 54,
   "metadata": {},
   "outputs": [
    {
     "data": {
      "text/plain": [
       "torch.Tensor"
      ]
     },
     "execution_count": 54,
     "metadata": {},
     "output_type": "execute_result"
    }
   ],
   "source": [
    "test_x_data.float()\n",
    "test_y_data.float()\n",
    "\n",
    "hour_var = Variable(test_x_data)\n",
    "hour_var=hour_var.float()\n",
    "type(hour_var)"
   ]
  },
  {
   "cell_type": "code",
   "execution_count": 55,
   "metadata": {},
   "outputs": [
    {
     "name": "stdout",
     "output_type": "stream",
     "text": [
      "tensor([[1.0000e+00],\n",
      "        [9.9837e-01],\n",
      "        [8.4450e-05],\n",
      "        ...,\n",
      "        [6.1329e-01],\n",
      "        [2.4931e-01],\n",
      "        [9.9224e-01]], grad_fn=<SigmoidBackward>)\n"
     ]
    }
   ],
   "source": [
    "print( model.forward(hour_var))"
   ]
  },
  {
   "cell_type": "code",
   "execution_count": 65,
   "metadata": {},
   "outputs": [],
   "source": [
    "class lolDataset_test(Dataset):\n",
    "  \n",
    "  def __init__(self):\n",
    "    self.len =8490\n",
    "    self.x_data = Variable(test_x_data)\n",
    "    self.y_data = Variable(test_y_data)\n",
    "    \n",
    "  def __getitem__(self, index):\n",
    "    return self.x_data[index], self.y_data[index]\n",
    "  \n",
    "  def __len__(self):\n",
    "    return self.len\n",
    "  \n",
    "testset = lolDataset_test()\n",
    "test_loader = DataLoader(dataset = testset, batch_size = 30, shuffle=True, num_workers=0)"
   ]
  },
  {
   "cell_type": "code",
   "execution_count": 67,
   "metadata": {},
   "outputs": [],
   "source": [
    "def accuracy(test_loader):\n",
    "    a=0\n",
    "    for data, target in test_loader:\n",
    "        data = data.view(data.shape[0], -1)\n",
    "    mse = 0\n",
    "    for i, data in enumerate(test_loader, 0):\n",
    "\n",
    "        # get the inputs\n",
    "        inputs, labels = data\n",
    "\n",
    "        # wrap them in Variable\n",
    "        inputs, labels = Variable(inputs), Variable(labels)\n",
    "\n",
    "        inputs = inputs.float()\n",
    "        labels = labels.float()\n",
    "\n",
    "        # Forward pass: Compute predicted y by passing x to the model\n",
    "        y_pred = model(inputs)\n",
    "    #     print(y_pred)\n",
    "\n",
    "    #     # Compute and print loss\n",
    "    #     loss = criterion(y_pred, labels)\n",
    "    #     mse += torch.sum(loss)\n",
    "        for j in range(30):\n",
    "            if y_pred[j]>=0.5:\n",
    "                if labels[j]==1:\n",
    "                    a+=1\n",
    "            if y_pred[j]<0.5:\n",
    "                if labels[j]==0:\n",
    "                    a+=1\n",
    "\n",
    "    # from math import sqrt\n",
    "    # rmse=sqrt(mse/2120)\n",
    "    # print(rmse)\n",
    "    print(a/8490)"
   ]
  },
  {
   "cell_type": "code",
   "execution_count": null,
   "metadata": {},
   "outputs": [],
   "source": []
  }
 ],
 "metadata": {
  "kernelspec": {
   "display_name": "Python 3",
   "language": "python",
   "name": "python3"
  },
  "language_info": {
   "codemirror_mode": {
    "name": "ipython",
    "version": 3
   },
   "file_extension": ".py",
   "mimetype": "text/x-python",
   "name": "python",
   "nbconvert_exporter": "python",
   "pygments_lexer": "ipython3",
   "version": "3.7.3"
  }
 },
 "nbformat": 4,
 "nbformat_minor": 2
}
